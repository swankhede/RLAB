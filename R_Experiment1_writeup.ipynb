{
  "nbformat": 4,
  "nbformat_minor": 0,
  "metadata": {
    "colab": {
      "name": "R_Experiment1_writeup.ipynb",
      "provenance": [],
      "collapsed_sections": [],
      "include_colab_link": true
    },
    "kernelspec": {
      "name": "ir",
      "display_name": "R"
    }
  },
  "cells": [
    {
      "cell_type": "markdown",
      "metadata": {
        "id": "view-in-github",
        "colab_type": "text"
      },
      "source": [
        "<a href=\"https://colab.research.google.com/github/swankhede/RLAB/blob/main/R_Experiment1_writeup.ipynb\" target=\"_parent\"><img src=\"https://colab.research.google.com/assets/colab-badge.svg\" alt=\"Open In Colab\"/></a>"
      ]
    },
    {
      "cell_type": "markdown",
      "metadata": {
        "id": "ID8ytqkhyQUI"
      },
      "source": [
        "**Basics of R Programming**\n",
        "\n",
        "Let us learn basic building blocks of the R programming language.\n",
        "\n",
        "In most comman way R can be though as an interactive calculator.\n",
        "\n",
        "Try executing following code block\n"
      ]
    },
    {
      "cell_type": "code",
      "metadata": {
        "colab": {
          "base_uri": "https://localhost:8080/",
          "height": 34
        },
        "id": "laFgRgayS6Yq",
        "outputId": "ec1d34bd-83c4-4dbd-ce3d-5fc0d2d58fe9"
      },
      "source": [
        "#Code cell\n",
        "5*7"
      ],
      "execution_count": null,
      "outputs": [
        {
          "output_type": "display_data",
          "data": {
            "text/plain": [
              "[1] 35"
            ],
            "text/latex": "35",
            "text/markdown": "35",
            "text/html": [
              "35"
            ]
          },
          "metadata": {
            "tags": []
          }
        }
      ]
    },
    {
      "cell_type": "code",
      "metadata": {
        "colab": {
          "base_uri": "https://localhost:8080/",
          "height": 34
        },
        "id": "_ToRK7PP16VG",
        "outputId": "02517a60-ac33-4355-d38c-6bdb87f53a61"
      },
      "source": [
        "typeof(12)"
      ],
      "execution_count": null,
      "outputs": [
        {
          "output_type": "display_data",
          "data": {
            "text/plain": [
              "[1] \"double\""
            ],
            "text/latex": "'double'",
            "text/markdown": "'double'",
            "text/html": [
              "'double'"
            ]
          },
          "metadata": {
            "tags": []
          }
        }
      ]
    },
    {
      "cell_type": "markdown",
      "metadata": {
        "id": "dwkEL9UGTdDu"
      },
      "source": [
        " **Store computed value in a variable**\n",
        "\n",
        " The way you assign a value to a variable in R is by using the assignment operator, which is just a 'less than'symbol followed by a 'minus' sign. It looks like this: <-"
      ]
    },
    {
      "cell_type": "code",
      "metadata": {
        "id": "uoJ8DVxkT1cq",
        "colab": {
          "base_uri": "https://localhost:8080/",
          "height": 34
        },
        "outputId": "ddb50312-7867-4c18-d619-d784dd5332be"
      },
      "source": [
        "#Store result of 5+7 in varible c\n",
        "c<-5+8*6\n",
        "c"
      ],
      "execution_count": null,
      "outputs": [
        {
          "output_type": "display_data",
          "data": {
            "text/plain": [
              "[1] 53"
            ],
            "text/latex": "53",
            "text/markdown": "53",
            "text/html": [
              "53"
            ]
          },
          "metadata": {
            "tags": []
          }
        }
      ]
    },
    {
      "cell_type": "code",
      "metadata": {
        "colab": {
          "base_uri": "https://localhost:8080/",
          "height": 34
        },
        "id": "51YX5Hh-13Fk",
        "outputId": "29b54f17-6b63-4fe7-cd7a-3fbb74589b68"
      },
      "source": [
        "typeof(c)"
      ],
      "execution_count": null,
      "outputs": [
        {
          "output_type": "display_data",
          "data": {
            "text/plain": [
              "[1] \"double\""
            ],
            "text/latex": "'double'",
            "text/markdown": "'double'",
            "text/html": [
              "'double'"
            ]
          },
          "metadata": {
            "tags": []
          }
        }
      ]
    },
    {
      "cell_type": "markdown",
      "metadata": {
        "id": "J3OsGT5RV-8v"
      },
      "source": [
        "We can further use variable c in another exrpession to create variable b which is 1 excess that one fourth of value of c"
      ]
    },
    {
      "cell_type": "code",
      "metadata": {
        "colab": {
          "base_uri": "https://localhost:8080/",
          "height": 51
        },
        "id": "5jf2aI3KT1qj",
        "outputId": "1c0c51e2-5d89-4dbe-9842-55a7227cb676"
      },
      "source": [
        "b<-c/4+1\n",
        "b \n",
        "d=c/4+1\n",
        "d"
      ],
      "execution_count": null,
      "outputs": [
        {
          "output_type": "display_data",
          "data": {
            "text/plain": [
              "[1] 14.25"
            ],
            "text/latex": "14.25",
            "text/markdown": "14.25",
            "text/html": [
              "14.25"
            ]
          },
          "metadata": {
            "tags": []
          }
        },
        {
          "output_type": "display_data",
          "data": {
            "text/plain": [
              "[1] 14.25"
            ],
            "text/latex": "14.25",
            "text/markdown": "14.25",
            "text/html": [
              "14.25"
            ]
          },
          "metadata": {
            "tags": []
          }
        }
      ]
    },
    {
      "cell_type": "code",
      "metadata": {
        "colab": {
          "base_uri": "https://localhost:8080/",
          "height": 52
        },
        "id": "Ngf878ZR2GB6",
        "outputId": "253bb537-bcc0-4985-bfa0-3e1d04630a76"
      },
      "source": [
        "typeof(b)\n",
        "typeof(d)\n"
      ],
      "execution_count": null,
      "outputs": [
        {
          "output_type": "display_data",
          "data": {
            "text/plain": [
              "[1] \"double\""
            ],
            "text/latex": "'double'",
            "text/markdown": "'double'",
            "text/html": [
              "'double'"
            ]
          },
          "metadata": {
            "tags": []
          }
        },
        {
          "output_type": "display_data",
          "data": {
            "text/plain": [
              "[1] \"double\""
            ],
            "text/latex": "'double'",
            "text/markdown": "'double'",
            "text/html": [
              "'double'"
            ]
          },
          "metadata": {
            "tags": []
          }
        }
      ]
    },
    {
      "cell_type": "markdown",
      "metadata": {
        "id": "1E01QTsy05p_"
      },
      "source": [
        "**Creation of Vector**\n",
        "\n",
        "The easiest way to create a vector is with the c() function, which stands for 'concatenate' or 'combine'. \n",
        "\n",
        " To create a vector containing the numbers 1.1, 9, and 3.14, type c(1.1, 9, 3.14). Try it now and store the result in a variable called z in following code block. "
      ]
    },
    {
      "cell_type": "code",
      "metadata": {
        "colab": {
          "base_uri": "https://localhost:8080/",
          "height": 51
        },
        "id": "Dgx9ap0OT12g",
        "outputId": "248f86a2-f2f5-423f-b487-2a50c3b2cd34"
      },
      "source": [
        "z <- c(1.1, 9, 'dhg')\n",
        "z\n",
        "z1 <- c(1.1, 9, 5,566,4564.545646)\n",
        "z1\n"
      ],
      "execution_count": null,
      "outputs": [
        {
          "output_type": "display_data",
          "data": {
            "text/plain": [
              "[1] \"1.1\" \"9\"   \"dhg\""
            ],
            "text/latex": "\\begin{enumerate*}\n\\item '1.1'\n\\item '9'\n\\item 'dhg'\n\\end{enumerate*}\n",
            "text/markdown": "1. '1.1'\n2. '9'\n3. 'dhg'\n\n\n",
            "text/html": [
              "<style>\n",
              ".list-inline {list-style: none; margin:0; padding: 0}\n",
              ".list-inline>li {display: inline-block}\n",
              ".list-inline>li:not(:last-child)::after {content: \"\\00b7\"; padding: 0 .5ex}\n",
              "</style>\n",
              "<ol class=list-inline><li>'1.1'</li><li>'9'</li><li>'dhg'</li></ol>\n"
            ]
          },
          "metadata": {
            "tags": []
          }
        },
        {
          "output_type": "display_data",
          "data": {
            "text/plain": [
              "[1]    1.100    9.000    5.000  566.000 4564.546"
            ],
            "text/latex": "\\begin{enumerate*}\n\\item 1.1\n\\item 9\n\\item 5\n\\item 566\n\\item 4564.545646\n\\end{enumerate*}\n",
            "text/markdown": "1. 1.1\n2. 9\n3. 5\n4. 566\n5. 4564.545646\n\n\n",
            "text/html": [
              "<style>\n",
              ".list-inline {list-style: none; margin:0; padding: 0}\n",
              ".list-inline>li {display: inline-block}\n",
              ".list-inline>li:not(:last-child)::after {content: \"\\00b7\"; padding: 0 .5ex}\n",
              "</style>\n",
              "<ol class=list-inline><li>1.1</li><li>9</li><li>5</li><li>566</li><li>4564.545646</li></ol>\n"
            ]
          },
          "metadata": {
            "tags": []
          }
        }
      ]
    },
    {
      "cell_type": "code",
      "metadata": {
        "colab": {
          "base_uri": "https://localhost:8080/",
          "height": 69
        },
        "id": "2WTysXG82Mnt",
        "outputId": "6420d969-bab1-41c0-ed5c-d5c9a78ca8f5"
      },
      "source": [
        "typeof(z)\n",
        "typeof(z1)\n",
        "class(z)"
      ],
      "execution_count": null,
      "outputs": [
        {
          "output_type": "display_data",
          "data": {
            "text/plain": [
              "[1] \"character\""
            ],
            "text/latex": "'character'",
            "text/markdown": "'character'",
            "text/html": [
              "'character'"
            ]
          },
          "metadata": {
            "tags": []
          }
        },
        {
          "output_type": "display_data",
          "data": {
            "text/plain": [
              "[1] \"double\""
            ],
            "text/latex": "'double'",
            "text/markdown": "'double'",
            "text/html": [
              "'double'"
            ]
          },
          "metadata": {
            "tags": []
          }
        },
        {
          "output_type": "display_data",
          "data": {
            "text/plain": [
              "[1] \"character\""
            ],
            "text/latex": "'character'",
            "text/markdown": "'character'",
            "text/html": [
              "'character'"
            ]
          },
          "metadata": {
            "tags": []
          }
        }
      ]
    },
    {
      "cell_type": "code",
      "metadata": {
        "colab": {
          "base_uri": "https://localhost:8080/",
          "height": 35
        },
        "id": "-Xl8TbUC3AWV",
        "outputId": "40fdeed7-0019-4ded-bb24-c6f207917e61"
      },
      "source": [
        "z"
      ],
      "execution_count": null,
      "outputs": [
        {
          "output_type": "display_data",
          "data": {
            "text/plain": [
              "[1] \"1.1\" \"9\"   \"dhg\""
            ],
            "text/latex": "\\begin{enumerate*}\n\\item '1.1'\n\\item '9'\n\\item 'dhg'\n\\end{enumerate*}\n",
            "text/markdown": "1. '1.1'\n2. '9'\n3. 'dhg'\n\n\n",
            "text/html": [
              "<style>\n",
              ".list-inline {list-style: none; margin:0; padding: 0}\n",
              ".list-inline>li {display: inline-block}\n",
              ".list-inline>li:not(:last-child)::after {content: \"\\00b7\"; padding: 0 .5ex}\n",
              "</style>\n",
              "<ol class=list-inline><li>'1.1'</li><li>'9'</li><li>'dhg'</li></ol>\n"
            ]
          },
          "metadata": {
            "tags": []
          }
        }
      ]
    },
    {
      "cell_type": "code",
      "metadata": {
        "id": "-0bEqCrA2OGa"
      },
      "source": [
        "#Get Documentation about concatinate\n",
        "?c\n",
        "#help(c)"
      ],
      "execution_count": null,
      "outputs": []
    },
    {
      "cell_type": "markdown",
      "metadata": {
        "id": "wIk26TAl3Uww"
      },
      "source": [
        "You can combine vectors to make a new vector. \n",
        "\n",
        "Create a new vector that contains z, 555, then z again in that order. Don't assign this vector to a new variable, so that we can just see the result immediately."
      ]
    },
    {
      "cell_type": "code",
      "metadata": {
        "colab": {
          "base_uri": "https://localhost:8080/",
          "height": 34
        },
        "id": "ijGw7IF73AoV",
        "outputId": "ed326458-b8a3-40ab-a870-32e1d52218c9"
      },
      "source": [
        "d <-c(z,555,z)\r\n",
        "length(d)"
      ],
      "execution_count": null,
      "outputs": [
        {
          "output_type": "display_data",
          "data": {
            "text/plain": [
              "[1] 7"
            ],
            "text/latex": "7",
            "text/markdown": "7",
            "text/html": [
              "7"
            ]
          },
          "metadata": {
            "tags": []
          }
        }
      ]
    },
    {
      "cell_type": "code",
      "metadata": {
        "id": "2nrXSHBjSFQ4"
      },
      "source": [
        "z<-c(3,6,5)"
      ],
      "execution_count": null,
      "outputs": []
    },
    {
      "cell_type": "markdown",
      "metadata": {
        "id": "2W1R03gK3mWg"
      },
      "source": [
        "**Using Vector in Expression**\n",
        "\n",
        "compute z^2 + 3 and check output"
      ]
    },
    {
      "cell_type": "code",
      "metadata": {
        "colab": {
          "base_uri": "https://localhost:8080/",
          "height": 113
        },
        "id": "N_x4nZD-2ifL",
        "outputId": "5faee52d-5f56-420b-83a7-30cee241edc7"
      },
      "source": [
        "z\r\n",
        "z^2+3"
      ],
      "execution_count": null,
      "outputs": [
        {
          "output_type": "display_data",
          "data": {
            "text/plain": [
              "[1] \"1.1\" \"9\"   \"dhg\""
            ],
            "text/latex": "\\begin{enumerate*}\n\\item '1.1'\n\\item '9'\n\\item 'dhg'\n\\end{enumerate*}\n",
            "text/markdown": "1. '1.1'\n2. '9'\n3. 'dhg'\n\n\n",
            "text/html": [
              "<style>\n",
              ".list-inline {list-style: none; margin:0; padding: 0}\n",
              ".list-inline>li {display: inline-block}\n",
              ".list-inline>li:not(:last-child)::after {content: \"\\00b7\"; padding: 0 .5ex}\n",
              "</style>\n",
              "<ol class=list-inline><li>'1.1'</li><li>'9'</li><li>'dhg'</li></ol>\n"
            ]
          },
          "metadata": {
            "tags": []
          }
        },
        {
          "output_type": "error",
          "ename": "ERROR",
          "evalue": "ignored",
          "traceback": [
            "Error in z^2: non-numeric argument to binary operator\nTraceback:\n"
          ]
        }
      ]
    },
    {
      "cell_type": "markdown",
      "metadata": {
        "id": "C6Sl3d3m4Mpu"
      },
      "source": [
        "**Comman Arithmatic Operators in R**\n",
        "\n",
        "+, -, /, *, ^ are comman operators and sqrt, abs are arithmatic functions in R"
      ]
    },
    {
      "cell_type": "markdown",
      "metadata": {
        "id": "MhpNvKxD5b39"
      },
      "source": [
        "When given two vectors of the same length, R simply performs the specified arithmetic operation (`+`, `-`, `*` etc.) element-by-element. If the vectors are of different lengths, R 'recycles' the shorter vector until it is the same length as the longer vector.\n",
        "\n",
        "When we do z * 2 + 100, z is a vector of length 3, but technically 2 and 100 are each vectors of length 1."
      ]
    },
    {
      "cell_type": "code",
      "metadata": {
        "colab": {
          "base_uri": "https://localhost:8080/",
          "height": 51
        },
        "id": "ymnNvfCUJX__",
        "outputId": "bc5feaef-d412-4bd1-e358-cd023e41ac3b"
      },
      "source": [
        "y<-rep(2,10)\n",
        "y\n",
        "length(y)"
      ],
      "execution_count": null,
      "outputs": [
        {
          "output_type": "display_data",
          "data": {
            "text/plain": [
              " [1] 2 2 2 2 2 2 2 2 2 2"
            ],
            "text/latex": "\\begin{enumerate*}\n\\item 2\n\\item 2\n\\item 2\n\\item 2\n\\item 2\n\\item 2\n\\item 2\n\\item 2\n\\item 2\n\\item 2\n\\end{enumerate*}\n",
            "text/markdown": "1. 2\n2. 2\n3. 2\n4. 2\n5. 2\n6. 2\n7. 2\n8. 2\n9. 2\n10. 2\n\n\n",
            "text/html": [
              "<style>\n",
              ".list-inline {list-style: none; margin:0; padding: 0}\n",
              ".list-inline>li {display: inline-block}\n",
              ".list-inline>li:not(:last-child)::after {content: \"\\00b7\"; padding: 0 .5ex}\n",
              "</style>\n",
              "<ol class=list-inline><li>2</li><li>2</li><li>2</li><li>2</li><li>2</li><li>2</li><li>2</li><li>2</li><li>2</li><li>2</li></ol>\n"
            ]
          },
          "metadata": {
            "tags": []
          }
        },
        {
          "output_type": "display_data",
          "data": {
            "text/plain": [
              "[1] 10"
            ],
            "text/latex": "10",
            "text/markdown": "10",
            "text/html": [
              "10"
            ]
          },
          "metadata": {
            "tags": []
          }
        }
      ]
    },
    {
      "cell_type": "code",
      "metadata": {
        "colab": {
          "base_uri": "https://localhost:8080/",
          "height": 121
        },
        "id": "vENgSa6E32kc",
        "outputId": "e4b2b9fe-adf8-43b6-93d0-949138365cf0"
      },
      "source": [
        "# Does recycling explains output of following expression\n",
        "c(1, 2, 3, 4) + c(0, 10)\n",
        "c(1, 2, 3, 4) + c(0, 10, 0 ,10)\n",
        "c(1, 2, 3, 4, 5) + c(2, 10)\n",
        "c(1, 2, 3, 4, 5) + c(2, 10, 2, 10, 2)"
      ],
      "execution_count": null,
      "outputs": [
        {
          "output_type": "display_data",
          "data": {
            "text/plain": [
              "[1]  1 12  3 14"
            ],
            "text/latex": "\\begin{enumerate*}\n\\item 1\n\\item 12\n\\item 3\n\\item 14\n\\end{enumerate*}\n",
            "text/markdown": "1. 1\n2. 12\n3. 3\n4. 14\n\n\n",
            "text/html": [
              "<style>\n",
              ".list-inline {list-style: none; margin:0; padding: 0}\n",
              ".list-inline>li {display: inline-block}\n",
              ".list-inline>li:not(:last-child)::after {content: \"\\00b7\"; padding: 0 .5ex}\n",
              "</style>\n",
              "<ol class=list-inline><li>1</li><li>12</li><li>3</li><li>14</li></ol>\n"
            ]
          },
          "metadata": {
            "tags": []
          }
        },
        {
          "output_type": "display_data",
          "data": {
            "text/plain": [
              "[1]  1 12  3 14"
            ],
            "text/latex": "\\begin{enumerate*}\n\\item 1\n\\item 12\n\\item 3\n\\item 14\n\\end{enumerate*}\n",
            "text/markdown": "1. 1\n2. 12\n3. 3\n4. 14\n\n\n",
            "text/html": [
              "<style>\n",
              ".list-inline {list-style: none; margin:0; padding: 0}\n",
              ".list-inline>li {display: inline-block}\n",
              ".list-inline>li:not(:last-child)::after {content: \"\\00b7\"; padding: 0 .5ex}\n",
              "</style>\n",
              "<ol class=list-inline><li>1</li><li>12</li><li>3</li><li>14</li></ol>\n"
            ]
          },
          "metadata": {
            "tags": []
          }
        },
        {
          "output_type": "stream",
          "text": [
            "Warning message in c(1, 2, 3, 4, 5) + c(2, 10):\n",
            "“longer object length is not a multiple of shorter object length”\n"
          ],
          "name": "stderr"
        },
        {
          "output_type": "display_data",
          "data": {
            "text/plain": [
              "[1]  3 12  5 14  7"
            ],
            "text/latex": "\\begin{enumerate*}\n\\item 3\n\\item 12\n\\item 5\n\\item 14\n\\item 7\n\\end{enumerate*}\n",
            "text/markdown": "1. 3\n2. 12\n3. 5\n4. 14\n5. 7\n\n\n",
            "text/html": [
              "<style>\n",
              ".list-inline {list-style: none; margin:0; padding: 0}\n",
              ".list-inline>li {display: inline-block}\n",
              ".list-inline>li:not(:last-child)::after {content: \"\\00b7\"; padding: 0 .5ex}\n",
              "</style>\n",
              "<ol class=list-inline><li>3</li><li>12</li><li>5</li><li>14</li><li>7</li></ol>\n"
            ]
          },
          "metadata": {
            "tags": []
          }
        },
        {
          "output_type": "display_data",
          "data": {
            "text/plain": [
              "[1]  3 12  5 14  7"
            ],
            "text/latex": "\\begin{enumerate*}\n\\item 3\n\\item 12\n\\item 5\n\\item 14\n\\item 7\n\\end{enumerate*}\n",
            "text/markdown": "1. 3\n2. 12\n3. 5\n4. 14\n5. 7\n\n\n",
            "text/html": [
              "<style>\n",
              ".list-inline {list-style: none; margin:0; padding: 0}\n",
              ".list-inline>li {display: inline-block}\n",
              ".list-inline>li:not(:last-child)::after {content: \"\\00b7\"; padding: 0 .5ex}\n",
              "</style>\n",
              "<ol class=list-inline><li>3</li><li>12</li><li>5</li><li>14</li><li>7</li></ol>\n"
            ]
          },
          "metadata": {
            "tags": []
          }
        }
      ]
    },
    {
      "cell_type": "markdown",
      "metadata": {
        "id": "WQW7cdOiUQGB"
      },
      "source": [
        "**How to access disk?** "
      ]
    },
    {
      "cell_type": "code",
      "metadata": {
        "id": "5lA714zl6KG3",
        "colab": {
          "base_uri": "https://localhost:8080/",
          "height": 34
        },
        "outputId": "dbbc7a09-625a-454d-e950-eb8ae73794f4"
      },
      "source": [
        "curdir<-getwd()\n",
        "curdir"
      ],
      "execution_count": null,
      "outputs": [
        {
          "output_type": "display_data",
          "data": {
            "text/plain": [
              "[1] \"/content\""
            ],
            "text/latex": "'/content'",
            "text/markdown": "'/content'",
            "text/html": [
              "'/content'"
            ]
          },
          "metadata": {
            "tags": []
          }
        }
      ]
    },
    {
      "cell_type": "code",
      "metadata": {
        "colab": {
          "base_uri": "https://localhost:8080/",
          "height": 34
        },
        "id": "qfLiWY-f2bx3",
        "outputId": "15a1b7e8-0645-41ca-eae7-1ab33e532887"
      },
      "source": [
        "ls()"
      ],
      "execution_count": null,
      "outputs": [
        {
          "output_type": "display_data",
          "data": {
            "text/plain": [
              "[1] \"b\"      \"c\"      \"curdir\" \"d\"      \"f\"      \"y\"      \"z\"      \"z1\"    "
            ],
            "text/latex": "\\begin{enumerate*}\n\\item 'b'\n\\item 'c'\n\\item 'curdir'\n\\item 'd'\n\\item 'f'\n\\item 'y'\n\\item 'z'\n\\item 'z1'\n\\end{enumerate*}\n",
            "text/markdown": "1. 'b'\n2. 'c'\n3. 'curdir'\n4. 'd'\n5. 'f'\n6. 'y'\n7. 'z'\n8. 'z1'\n\n\n",
            "text/html": [
              "<style>\n",
              ".list-inline {list-style: none; margin:0; padding: 0}\n",
              ".list-inline>li {display: inline-block}\n",
              ".list-inline>li:not(:last-child)::after {content: \"\\00b7\"; padding: 0 .5ex}\n",
              "</style>\n",
              "<ol class=list-inline><li>'b'</li><li>'c'</li><li>'curdir'</li><li>'d'</li><li>'f'</li><li>'y'</li><li>'z'</li><li>'z1'</li></ol>\n"
            ]
          },
          "metadata": {
            "tags": []
          }
        }
      ]
    },
    {
      "cell_type": "code",
      "metadata": {
        "colab": {
          "base_uri": "https://localhost:8080/",
          "height": 34
        },
        "id": "ksWmlrly2nEP",
        "outputId": "302df5c7-7d96-466f-a325-60be2c6b4d61"
      },
      "source": [
        "#show you files in PWD\n",
        "list.files()\n",
        "#dir('.')"
      ],
      "execution_count": null,
      "outputs": [
        {
          "output_type": "display_data",
          "data": {
            "text/plain": [
              "[1] \"sample_data\""
            ],
            "text/latex": "'sample\\_data'",
            "text/markdown": "'sample_data'",
            "text/html": [
              "'sample_data'"
            ]
          },
          "metadata": {
            "tags": []
          }
        }
      ]
    },
    {
      "cell_type": "code",
      "metadata": {
        "colab": {
          "base_uri": "https://localhost:8080/",
          "height": 35
        },
        "id": "QkEscD2x3CnA",
        "outputId": "b08bbfa1-5200-492f-b9f5-11d75a1d716b"
      },
      "source": [
        "list.dirs('sample_data')"
      ],
      "execution_count": null,
      "outputs": [
        {
          "output_type": "display_data",
          "data": {
            "text/plain": [
              "[1] \"sample_data\""
            ],
            "text/latex": "'sample\\_data'",
            "text/markdown": "'sample_data'",
            "text/html": [
              "'sample_data'"
            ]
          },
          "metadata": {
            "tags": []
          }
        }
      ]
    },
    {
      "cell_type": "code",
      "metadata": {
        "id": "Q_0Aq8xP3F2P"
      },
      "source": [
        "old_dir<-getwd()"
      ],
      "execution_count": null,
      "outputs": []
    },
    {
      "cell_type": "code",
      "metadata": {
        "id": "qg_N6Ejx3krB"
      },
      "source": [
        "#creates a folder on ur device \n",
        "dir.create('test2')"
      ],
      "execution_count": null,
      "outputs": []
    },
    {
      "cell_type": "code",
      "metadata": {
        "colab": {
          "base_uri": "https://localhost:8080/",
          "height": 35
        },
        "id": "sIkEEQaC38Mm",
        "outputId": "57936d55-788f-4e61-df83-b091dc11bd5e"
      },
      "source": [
        "list.dirs()"
      ],
      "execution_count": null,
      "outputs": [
        {
          "output_type": "display_data",
          "data": {
            "text/plain": [
              "[1] \".\"                         \"./.config\"                \n",
              "[3] \"./.config/configurations\"  \"./.config/logs\"           \n",
              "[5] \"./.config/logs/2021.02.04\" \"./sample_data\"            \n",
              "[7] \"./test2\"                  "
            ],
            "text/latex": "\\begin{enumerate*}\n\\item '.'\n\\item './.config'\n\\item './.config/configurations'\n\\item './.config/logs'\n\\item './.config/logs/2021.02.04'\n\\item './sample\\_data'\n\\item './test2'\n\\end{enumerate*}\n",
            "text/markdown": "1. '.'\n2. './.config'\n3. './.config/configurations'\n4. './.config/logs'\n5. './.config/logs/2021.02.04'\n6. './sample_data'\n7. './test2'\n\n\n",
            "text/html": [
              "<style>\n",
              ".list-inline {list-style: none; margin:0; padding: 0}\n",
              ".list-inline>li {display: inline-block}\n",
              ".list-inline>li:not(:last-child)::after {content: \"\\00b7\"; padding: 0 .5ex}\n",
              "</style>\n",
              "<ol class=list-inline><li>'.'</li><li>'./.config'</li><li>'./.config/configurations'</li><li>'./.config/logs'</li><li>'./.config/logs/2021.02.04'</li><li>'./sample_data'</li><li>'./test2'</li></ol>\n"
            ]
          },
          "metadata": {
            "tags": []
          }
        }
      ]
    },
    {
      "cell_type": "code",
      "metadata": {
        "id": "JEZqFJwN4Bit",
        "colab": {
          "base_uri": "https://localhost:8080/",
          "height": 35
        },
        "outputId": "154a8e99-18a0-4296-fd68-894fc4e47350"
      },
      "source": [
        "getwd()"
      ],
      "execution_count": null,
      "outputs": [
        {
          "output_type": "display_data",
          "data": {
            "text/plain": [
              "[1] \"/content\""
            ],
            "text/latex": "'/content'",
            "text/markdown": "'/content'",
            "text/html": [
              "'/content'"
            ]
          },
          "metadata": {
            "tags": []
          }
        }
      ]
    },
    {
      "cell_type": "code",
      "metadata": {
        "colab": {
          "base_uri": "https://localhost:8080/",
          "height": 34
        },
        "id": "-4s6O4Bs4IrF",
        "outputId": "ee3d87de-3aa1-4863-e283-eb07c2217a66"
      },
      "source": [
        "file.create('mytest.R')"
      ],
      "execution_count": null,
      "outputs": [
        {
          "output_type": "display_data",
          "data": {
            "text/plain": [
              "[1] TRUE"
            ],
            "text/latex": "TRUE",
            "text/markdown": "TRUE",
            "text/html": [
              "TRUE"
            ]
          },
          "metadata": {
            "tags": []
          }
        }
      ]
    },
    {
      "cell_type": "code",
      "metadata": {
        "colab": {
          "base_uri": "https://localhost:8080/",
          "height": 34
        },
        "id": "7qFMXVAD4aJp",
        "outputId": "baa234f5-a656-407a-c109-027fa27c64b6"
      },
      "source": [
        "dir()"
      ],
      "execution_count": null,
      "outputs": [
        {
          "output_type": "display_data",
          "data": {
            "text/plain": [
              "[1] \"mytest.R\"    \"sample_data\" \"test2\"      "
            ],
            "text/latex": "\\begin{enumerate*}\n\\item 'mytest.R'\n\\item 'sample\\_data'\n\\item 'test2'\n\\end{enumerate*}\n",
            "text/markdown": "1. 'mytest.R'\n2. 'sample_data'\n3. 'test2'\n\n\n",
            "text/html": [
              "<style>\n",
              ".list-inline {list-style: none; margin:0; padding: 0}\n",
              ".list-inline>li {display: inline-block}\n",
              ".list-inline>li:not(:last-child)::after {content: \"\\00b7\"; padding: 0 .5ex}\n",
              "</style>\n",
              "<ol class=list-inline><li>'mytest.R'</li><li>'sample_data'</li><li>'test2'</li></ol>\n"
            ]
          },
          "metadata": {
            "tags": []
          }
        }
      ]
    },
    {
      "cell_type": "code",
      "metadata": {
        "colab": {
          "base_uri": "https://localhost:8080/",
          "height": 52
        },
        "id": "haRUcBBT4kPf",
        "outputId": "f15dfb1f-6ca3-4f7d-f69b-4495e950ffd1"
      },
      "source": [
        "file.exists('/test2/mytest.R')\n",
        "file.exists('mytest.R')"
      ],
      "execution_count": null,
      "outputs": [
        {
          "output_type": "display_data",
          "data": {
            "text/plain": [
              "[1] FALSE"
            ],
            "text/latex": "FALSE",
            "text/markdown": "FALSE",
            "text/html": [
              "FALSE"
            ]
          },
          "metadata": {
            "tags": []
          }
        },
        {
          "output_type": "display_data",
          "data": {
            "text/plain": [
              "[1] TRUE"
            ],
            "text/latex": "TRUE",
            "text/markdown": "TRUE",
            "text/html": [
              "TRUE"
            ]
          },
          "metadata": {
            "tags": []
          }
        }
      ]
    },
    {
      "cell_type": "code",
      "metadata": {
        "colab": {
          "base_uri": "https://localhost:8080/",
          "height": 127
        },
        "id": "254zalqu4r2-",
        "outputId": "9699e040-86be-4d08-b058-698f3b456848"
      },
      "source": [
        "file.info('./myTest.R')"
      ],
      "execution_count": null,
      "outputs": [
        {
          "output_type": "display_data",
          "data": {
            "text/plain": [
              "           size isdir mode mtime ctime atime uid gid uname grname\n",
              "./myTest.R NA   NA    <NA> <NA>  <NA>  <NA>  NA  NA  NA    NA    "
            ],
            "text/latex": "A data.frame: 1 × 10\n\\begin{tabular}{r|llllllllll}\n  & size & isdir & mode & mtime & ctime & atime & uid & gid & uname & grname\\\\\n  & <dbl> & <lgl> & <octmode> & <dttm> & <dttm> & <dttm> & <int> & <int> & <chr> & <chr>\\\\\n\\hline\n\t./myTest.R & NA & NA & NA & NA & NA & NA & NA & NA & NA & NA\\\\\n\\end{tabular}\n",
            "text/markdown": "\nA data.frame: 1 × 10\n\n| <!--/--> | size &lt;dbl&gt; | isdir &lt;lgl&gt; | mode &lt;octmode&gt; | mtime &lt;dttm&gt; | ctime &lt;dttm&gt; | atime &lt;dttm&gt; | uid &lt;int&gt; | gid &lt;int&gt; | uname &lt;chr&gt; | grname &lt;chr&gt; |\n|---|---|---|---|---|---|---|---|---|---|---|\n| ./myTest.R | NA | NA | NA | NA | NA | NA | NA | NA | NA | NA |\n\n",
            "text/html": [
              "<table class=\"dataframe\">\n",
              "<caption>A data.frame: 1 × 10</caption>\n",
              "<thead>\n",
              "\t<tr><th></th><th scope=col>size</th><th scope=col>isdir</th><th scope=col>mode</th><th scope=col>mtime</th><th scope=col>ctime</th><th scope=col>atime</th><th scope=col>uid</th><th scope=col>gid</th><th scope=col>uname</th><th scope=col>grname</th></tr>\n",
              "\t<tr><th></th><th scope=col>&lt;dbl&gt;</th><th scope=col>&lt;lgl&gt;</th><th scope=col>&lt;octmode&gt;</th><th scope=col>&lt;dttm&gt;</th><th scope=col>&lt;dttm&gt;</th><th scope=col>&lt;dttm&gt;</th><th scope=col>&lt;int&gt;</th><th scope=col>&lt;int&gt;</th><th scope=col>&lt;chr&gt;</th><th scope=col>&lt;chr&gt;</th></tr>\n",
              "</thead>\n",
              "<tbody>\n",
              "\t<tr><th scope=row>./myTest.R</th><td>NA</td><td>NA</td><td>NA</td><td>NA</td><td>NA</td><td>NA</td><td>NA</td><td>NA</td><td>NA</td><td>NA</td></tr>\n",
              "</tbody>\n",
              "</table>\n"
            ]
          },
          "metadata": {
            "tags": []
          }
        }
      ]
    },
    {
      "cell_type": "code",
      "metadata": {
        "colab": {
          "base_uri": "https://localhost:8080/",
          "height": 35
        },
        "id": "Zpnce-Rn5KTs",
        "outputId": "53e90f5a-f120-4e00-c870-3d0a1817da4e"
      },
      "source": [
        "file.rename('mytest.R','mytest2.R')"
      ],
      "execution_count": null,
      "outputs": [
        {
          "output_type": "display_data",
          "data": {
            "text/plain": [
              "[1] TRUE"
            ],
            "text/latex": "TRUE",
            "text/markdown": "TRUE",
            "text/html": [
              "TRUE"
            ]
          },
          "metadata": {
            "tags": []
          }
        }
      ]
    },
    {
      "cell_type": "code",
      "metadata": {
        "colab": {
          "base_uri": "https://localhost:8080/",
          "height": 35
        },
        "id": "7z0Z3KOX5exz",
        "outputId": "0b997cf4-35b8-4aa5-8c77-5c6a8b683bc4"
      },
      "source": [
        "dir()"
      ],
      "execution_count": null,
      "outputs": [
        {
          "output_type": "display_data",
          "data": {
            "text/plain": [
              "[1] \"dir1\"        \"mytest2.R\"   \"sample_data\" \"test2\"      "
            ],
            "text/latex": "\\begin{enumerate*}\n\\item 'dir1'\n\\item 'mytest2.R'\n\\item 'sample\\_data'\n\\item 'test2'\n\\end{enumerate*}\n",
            "text/markdown": "1. 'dir1'\n2. 'mytest2.R'\n3. 'sample_data'\n4. 'test2'\n\n\n",
            "text/html": [
              "<style>\n",
              ".list-inline {list-style: none; margin:0; padding: 0}\n",
              ".list-inline>li {display: inline-block}\n",
              ".list-inline>li:not(:last-child)::after {content: \"\\00b7\"; padding: 0 .5ex}\n",
              "</style>\n",
              "<ol class=list-inline><li>'dir1'</li><li>'mytest2.R'</li><li>'sample_data'</li><li>'test2'</li></ol>\n"
            ]
          },
          "metadata": {
            "tags": []
          }
        }
      ]
    },
    {
      "cell_type": "code",
      "metadata": {
        "colab": {
          "base_uri": "https://localhost:8080/",
          "height": 35
        },
        "id": "A0RhfnOe5hzW",
        "outputId": "32b90170-55f3-4112-fe29-a4fc7e2758c3"
      },
      "source": [
        "file.copy('mytest2.R','mytest3.R')"
      ],
      "execution_count": null,
      "outputs": [
        {
          "output_type": "display_data",
          "data": {
            "text/plain": [
              "[1] TRUE"
            ],
            "text/latex": "TRUE",
            "text/markdown": "TRUE",
            "text/html": [
              "TRUE"
            ]
          },
          "metadata": {
            "tags": []
          }
        }
      ]
    },
    {
      "cell_type": "code",
      "metadata": {
        "colab": {
          "base_uri": "https://localhost:8080/",
          "height": 35
        },
        "id": "_BRKWKFp8kuV",
        "outputId": "e4f884e0-f90c-47a4-a795-bc23cf514ad5"
      },
      "source": [
        "file.path('testdir2','testdir3')"
      ],
      "execution_count": null,
      "outputs": [
        {
          "output_type": "display_data",
          "data": {
            "text/plain": [
              "[1] \"testdir2/testdir3\""
            ],
            "text/latex": "'testdir2/testdir3'",
            "text/markdown": "'testdir2/testdir3'",
            "text/html": [
              "'testdir2/testdir3'"
            ]
          },
          "metadata": {
            "tags": []
          }
        }
      ]
    },
    {
      "cell_type": "code",
      "metadata": {
        "id": "6oN630V6577F"
      },
      "source": [
        " dir.create(file.path('testdir2','testdir3'),recursive = TRUE)"
      ],
      "execution_count": null,
      "outputs": []
    },
    {
      "cell_type": "code",
      "metadata": {
        "id": "lZIz4bXC7L1f",
        "colab": {
          "base_uri": "https://localhost:8080/",
          "height": 35
        },
        "outputId": "97aa4548-8816-4832-d010-10872743678c"
      },
      "source": [
        "dir()"
      ],
      "execution_count": null,
      "outputs": [
        {
          "output_type": "display_data",
          "data": {
            "text/plain": [
              "[1] \"dir1\"        \"mytest2.R\"   \"mytest3.R\"   \"sample_data\" \"test2\"      \n",
              "[6] \"testdir2\"   "
            ],
            "text/latex": "\\begin{enumerate*}\n\\item 'dir1'\n\\item 'mytest2.R'\n\\item 'mytest3.R'\n\\item 'sample\\_data'\n\\item 'test2'\n\\item 'testdir2'\n\\end{enumerate*}\n",
            "text/markdown": "1. 'dir1'\n2. 'mytest2.R'\n3. 'mytest3.R'\n4. 'sample_data'\n5. 'test2'\n6. 'testdir2'\n\n\n",
            "text/html": [
              "<style>\n",
              ".list-inline {list-style: none; margin:0; padding: 0}\n",
              ".list-inline>li {display: inline-block}\n",
              ".list-inline>li:not(:last-child)::after {content: \"\\00b7\"; padding: 0 .5ex}\n",
              "</style>\n",
              "<ol class=list-inline><li>'dir1'</li><li>'mytest2.R'</li><li>'mytest3.R'</li><li>'sample_data'</li><li>'test2'</li><li>'testdir2'</li></ol>\n"
            ]
          },
          "metadata": {
            "tags": []
          }
        }
      ]
    },
    {
      "cell_type": "code",
      "metadata": {
        "id": "9eI0FKYV7Uqr"
      },
      "source": [
        "setwd('testdir2')"
      ],
      "execution_count": null,
      "outputs": []
    },
    {
      "cell_type": "code",
      "metadata": {
        "colab": {
          "base_uri": "https://localhost:8080/",
          "height": 52
        },
        "id": "zU4Ed3KXX4oe",
        "outputId": "7a0fee61-9956-45a5-adfd-1ad0b725fe90"
      },
      "source": [
        "dir()\n",
        "getwd()"
      ],
      "execution_count": null,
      "outputs": [
        {
          "output_type": "display_data",
          "data": {
            "text/plain": [
              "[1] \"testdir3\""
            ],
            "text/latex": "'testdir3'",
            "text/markdown": "'testdir3'",
            "text/html": [
              "'testdir3'"
            ]
          },
          "metadata": {
            "tags": []
          }
        },
        {
          "output_type": "display_data",
          "data": {
            "text/plain": [
              "[1] \"/content/testdir2\""
            ],
            "text/latex": "'/content/testdir2'",
            "text/markdown": "'/content/testdir2'",
            "text/html": [
              "'/content/testdir2'"
            ]
          },
          "metadata": {
            "tags": []
          }
        }
      ]
    },
    {
      "cell_type": "markdown",
      "metadata": {
        "id": "qM2e_KzXBjST"
      },
      "source": [
        "**Complete following tasks**\n",
        "\n",
        "Write R Code:\n",
        " \n",
        "\n",
        "1.    To create a directory named myworkplace in current working dirctory.\n",
        "2.   Create a folders/directories **exp1 and exp2** in it.\n",
        "3.   Navigate to **exp1** and create a file named **my_file.txt**. \n",
        "4.   Copy it to **my_file1.txt**\n",
        "5.   List files and folders in PWD and also in '/contents' directory  \n",
        "6.   Display only File access permisssion in the output for every file in **exp1** folder. "
      ]
    },
    {
      "cell_type": "code",
      "metadata": {
        "id": "t9sGb9VoDft9"
      },
      "source": [
        "#create a directory named myworkplace in current working dirctory.\n",
        "dir.create('myworkplace')\n"
      ],
      "execution_count": null,
      "outputs": []
    },
    {
      "cell_type": "code",
      "metadata": {
        "id": "4JbbDiIuBipn",
        "colab": {
          "base_uri": "https://localhost:8080/",
          "height": 34
        },
        "outputId": "0cdde472-570c-4481-ff58-d2191e8d5bb2"
      },
      "source": [
        "#validation\n",
        "dir()"
      ],
      "execution_count": null,
      "outputs": [
        {
          "output_type": "display_data",
          "data": {
            "text/plain": [
              "[1] \"myfile.txt\"  \"myworkplace\" \"workplace\"  "
            ],
            "text/latex": "\\begin{enumerate*}\n\\item 'myfile.txt'\n\\item 'myworkplace'\n\\item 'workplace'\n\\end{enumerate*}\n",
            "text/markdown": "1. 'myfile.txt'\n2. 'myworkplace'\n3. 'workplace'\n\n\n",
            "text/html": [
              "<style>\n",
              ".list-inline {list-style: none; margin:0; padding: 0}\n",
              ".list-inline>li {display: inline-block}\n",
              ".list-inline>li:not(:last-child)::after {content: \"\\00b7\"; padding: 0 .5ex}\n",
              "</style>\n",
              "<ol class=list-inline><li>'myfile.txt'</li><li>'myworkplace'</li><li>'workplace'</li></ol>\n"
            ]
          },
          "metadata": {
            "tags": []
          }
        }
      ]
    },
    {
      "cell_type": "code",
      "metadata": {
        "id": "JtqkpSm4bDdf",
        "colab": {
          "base_uri": "https://localhost:8080/"
        },
        "outputId": "8a0b11cb-4b44-4abd-ec4f-5aeabfd7c6a3"
      },
      "source": [
        "#Create a folders/directories exp1 and exp2 inside it.\n",
        "dirlist <- c('exp1','exp2')\n",
        "#dirlist[1]\n",
        "paths <- file.path('workplace',dirlist)\n",
        "dir.create(paths[1],recursive = TRUE)\n",
        "dir.create(paths[2],recursive=TRUE)"
      ],
      "execution_count": null,
      "outputs": [
        {
          "output_type": "stream",
          "text": [
            "Warning message in dir.create(paths[1], recursive = TRUE):\n",
            "“'workplace/exp1' already exists”\n",
            "Warning message in dir.create(paths[2], recursive = TRUE):\n",
            "“'workplace/exp2' already exists”\n"
          ],
          "name": "stderr"
        }
      ]
    },
    {
      "cell_type": "code",
      "metadata": {
        "colab": {
          "base_uri": "https://localhost:8080/",
          "height": 162
        },
        "id": "mvuhTSnUdUSh",
        "outputId": "bcf7ed6a-b331-4222-c176-a829bf893ff7"
      },
      "source": [
        "dir('./workplace')\n",
        "file.info('./workplace/exp1')"
      ],
      "execution_count": null,
      "outputs": [
        {
          "output_type": "display_data",
          "data": {
            "text/plain": [
              "[1] \"exp1\" \"exp2\""
            ],
            "text/latex": "\\begin{enumerate*}\n\\item 'exp1'\n\\item 'exp2'\n\\end{enumerate*}\n",
            "text/markdown": "1. 'exp1'\n2. 'exp2'\n\n\n",
            "text/html": [
              "<style>\n",
              ".list-inline {list-style: none; margin:0; padding: 0}\n",
              ".list-inline>li {display: inline-block}\n",
              ".list-inline>li:not(:last-child)::after {content: \"\\00b7\"; padding: 0 .5ex}\n",
              "</style>\n",
              "<ol class=list-inline><li>'exp1'</li><li>'exp2'</li></ol>\n"
            ]
          },
          "metadata": {
            "tags": []
          }
        },
        {
          "output_type": "display_data",
          "data": {
            "text/plain": [
              "                 size isdir mode mtime               ctime              \n",
              "./workplace/exp1 4096 TRUE  755  2021-03-06 08:57:36 2021-03-06 08:57:36\n",
              "                 atime               uid gid uname grname\n",
              "./workplace/exp1 2021-03-06 08:58:02 0   0   root  root  "
            ],
            "text/latex": "A data.frame: 1 × 10\n\\begin{tabular}{r|llllllllll}\n  & size & isdir & mode & mtime & ctime & atime & uid & gid & uname & grname\\\\\n  & <dbl> & <lgl> & <octmode> & <dttm> & <dttm> & <dttm> & <int> & <int> & <chr> & <chr>\\\\\n\\hline\n\t./workplace/exp1 & 4096 & TRUE & 755 & 2021-03-06 08:57:36 & 2021-03-06 08:57:36 & 2021-03-06 08:58:02 & 0 & 0 & root & root\\\\\n\\end{tabular}\n",
            "text/markdown": "\nA data.frame: 1 × 10\n\n| <!--/--> | size &lt;dbl&gt; | isdir &lt;lgl&gt; | mode &lt;octmode&gt; | mtime &lt;dttm&gt; | ctime &lt;dttm&gt; | atime &lt;dttm&gt; | uid &lt;int&gt; | gid &lt;int&gt; | uname &lt;chr&gt; | grname &lt;chr&gt; |\n|---|---|---|---|---|---|---|---|---|---|---|\n| ./workplace/exp1 | 4096 | TRUE | 755 | 2021-03-06 08:57:36 | 2021-03-06 08:57:36 | 2021-03-06 08:58:02 | 0 | 0 | root | root |\n\n",
            "text/html": [
              "<table class=\"dataframe\">\n",
              "<caption>A data.frame: 1 × 10</caption>\n",
              "<thead>\n",
              "\t<tr><th></th><th scope=col>size</th><th scope=col>isdir</th><th scope=col>mode</th><th scope=col>mtime</th><th scope=col>ctime</th><th scope=col>atime</th><th scope=col>uid</th><th scope=col>gid</th><th scope=col>uname</th><th scope=col>grname</th></tr>\n",
              "\t<tr><th></th><th scope=col>&lt;dbl&gt;</th><th scope=col>&lt;lgl&gt;</th><th scope=col>&lt;octmode&gt;</th><th scope=col>&lt;dttm&gt;</th><th scope=col>&lt;dttm&gt;</th><th scope=col>&lt;dttm&gt;</th><th scope=col>&lt;int&gt;</th><th scope=col>&lt;int&gt;</th><th scope=col>&lt;chr&gt;</th><th scope=col>&lt;chr&gt;</th></tr>\n",
              "</thead>\n",
              "<tbody>\n",
              "\t<tr><th scope=row>./workplace/exp1</th><td>4096</td><td>TRUE</td><td>755</td><td>2021-03-06 08:57:36</td><td>2021-03-06 08:57:36</td><td>2021-03-06 08:58:02</td><td>0</td><td>0</td><td>root</td><td>root</td></tr>\n",
              "</tbody>\n",
              "</table>\n"
            ]
          },
          "metadata": {
            "tags": []
          }
        }
      ]
    },
    {
      "cell_type": "code",
      "metadata": {
        "colab": {
          "base_uri": "https://localhost:8080/",
          "height": 34
        },
        "id": "ixsinDvqcRK8",
        "outputId": "47f98405-5516-4914-ff63-d2ba358441a9"
      },
      "source": [
        "#navigate to exp1 directory\n",
        "setwd(paths[1])\n",
        "getwd()"
      ],
      "execution_count": null,
      "outputs": [
        {
          "output_type": "display_data",
          "data": {
            "text/plain": [
              "[1] \"/content/workplace/exp1/workplace/exp1\""
            ],
            "text/latex": "'/content/workplace/exp1/workplace/exp1'",
            "text/markdown": "'/content/workplace/exp1/workplace/exp1'",
            "text/html": [
              "'/content/workplace/exp1/workplace/exp1'"
            ]
          },
          "metadata": {
            "tags": []
          }
        }
      ]
    },
    {
      "cell_type": "code",
      "metadata": {
        "colab": {
          "base_uri": "https://localhost:8080/",
          "height": 34
        },
        "id": "YYGLvgjvck_r",
        "outputId": "0d6bc0db-01e0-48e1-c480-1be1b5d8a161"
      },
      "source": [
        "file.create('myfile.txt')"
      ],
      "execution_count": null,
      "outputs": [
        {
          "output_type": "display_data",
          "data": {
            "text/plain": [
              "[1] TRUE"
            ],
            "text/latex": "TRUE",
            "text/markdown": "TRUE",
            "text/html": [
              "TRUE"
            ]
          },
          "metadata": {
            "tags": []
          }
        }
      ]
    },
    {
      "cell_type": "code",
      "metadata": {
        "id": "ecHfAP9iwnkx",
        "colab": {
          "base_uri": "https://localhost:8080/",
          "height": 34
        },
        "outputId": "19ceb42e-4062-4f68-ee0e-77f3d044151f"
      },
      "source": [
        "file.create('myfile1.txt')"
      ],
      "execution_count": null,
      "outputs": [
        {
          "output_type": "display_data",
          "data": {
            "text/plain": [
              "[1] TRUE"
            ],
            "text/latex": "TRUE",
            "text/markdown": "TRUE",
            "text/html": [
              "TRUE"
            ]
          },
          "metadata": {
            "tags": []
          }
        }
      ]
    },
    {
      "cell_type": "code",
      "metadata": {
        "id": "sQXrCPKAxvWQ",
        "colab": {
          "base_uri": "https://localhost:8080/",
          "height": 34
        },
        "outputId": "1ca5d017-9ebb-45d2-f715-ae347dcfa0a6"
      },
      "source": [
        "file.copy('myfile.txt','myfile1.txt',overwrite = TRUE)"
      ],
      "execution_count": null,
      "outputs": [
        {
          "output_type": "display_data",
          "data": {
            "text/plain": [
              "[1] TRUE"
            ],
            "text/latex": "TRUE",
            "text/markdown": "TRUE",
            "text/html": [
              "TRUE"
            ]
          },
          "metadata": {
            "tags": []
          }
        }
      ]
    },
    {
      "cell_type": "code",
      "metadata": {
        "id": "he5vw_t-zk0q",
        "colab": {
          "base_uri": "https://localhost:8080/",
          "height": 34
        },
        "outputId": "480fbe19-b35a-4a93-b8c9-6bbf19f08684"
      },
      "source": [
        "dir()"
      ],
      "execution_count": null,
      "outputs": [
        {
          "output_type": "display_data",
          "data": {
            "text/plain": [
              "[1] \"myfile.txt\"  \"myfile1.txt\""
            ],
            "text/latex": "\\begin{enumerate*}\n\\item 'myfile.txt'\n\\item 'myfile1.txt'\n\\end{enumerate*}\n",
            "text/markdown": "1. 'myfile.txt'\n2. 'myfile1.txt'\n\n\n",
            "text/html": [
              "<style>\n",
              ".list-inline {list-style: none; margin:0; padding: 0}\n",
              ".list-inline>li {display: inline-block}\n",
              ".list-inline>li:not(:last-child)::after {content: \"\\00b7\"; padding: 0 .5ex}\n",
              "</style>\n",
              "<ol class=list-inline><li>'myfile.txt'</li><li>'myfile1.txt'</li></ol>\n"
            ]
          },
          "metadata": {
            "tags": []
          }
        }
      ]
    },
    {
      "cell_type": "code",
      "metadata": {
        "id": "qCsdIbyPz6-h",
        "colab": {
          "base_uri": "https://localhost:8080/",
          "height": 34
        },
        "outputId": "3b030536-9473-4784-99e7-cb2c223b002c"
      },
      "source": [
        "getwd()"
      ],
      "execution_count": null,
      "outputs": [
        {
          "output_type": "display_data",
          "data": {
            "text/plain": [
              "[1] \"/content/workplace/exp1/workplace/exp1\""
            ],
            "text/latex": "'/content/workplace/exp1/workplace/exp1'",
            "text/markdown": "'/content/workplace/exp1/workplace/exp1'",
            "text/html": [
              "'/content/workplace/exp1/workplace/exp1'"
            ]
          },
          "metadata": {
            "tags": []
          }
        }
      ]
    },
    {
      "cell_type": "code",
      "metadata": {
        "id": "aGd9Kbf00BHY",
        "colab": {
          "base_uri": "https://localhost:8080/",
          "height": 272
        },
        "outputId": "e9b7f36e-7e7f-4671-cbbf-c2b21d91b3af"
      },
      "source": [
        "file.info('myfile.txt')\n",
        "file.info('myfile1.txt')"
      ],
      "execution_count": null,
      "outputs": [
        {
          "output_type": "display_data",
          "data": {
            "text/plain": [
              "           size isdir mode mtime               ctime              \n",
              "myfile.txt 0    FALSE 644  2021-03-06 08:58:50 2021-03-06 08:58:50\n",
              "           atime               uid gid uname grname\n",
              "myfile.txt 2021-03-06 09:05:48 0   0   root  root  "
            ],
            "text/latex": "A data.frame: 1 × 10\n\\begin{tabular}{r|llllllllll}\n  & size & isdir & mode & mtime & ctime & atime & uid & gid & uname & grname\\\\\n  & <dbl> & <lgl> & <octmode> & <dttm> & <dttm> & <dttm> & <int> & <int> & <chr> & <chr>\\\\\n\\hline\n\tmyfile.txt & 0 & FALSE & 644 & 2021-03-06 08:58:50 & 2021-03-06 08:58:50 & 2021-03-06 09:05:48 & 0 & 0 & root & root\\\\\n\\end{tabular}\n",
            "text/markdown": "\nA data.frame: 1 × 10\n\n| <!--/--> | size &lt;dbl&gt; | isdir &lt;lgl&gt; | mode &lt;octmode&gt; | mtime &lt;dttm&gt; | ctime &lt;dttm&gt; | atime &lt;dttm&gt; | uid &lt;int&gt; | gid &lt;int&gt; | uname &lt;chr&gt; | grname &lt;chr&gt; |\n|---|---|---|---|---|---|---|---|---|---|---|\n| myfile.txt | 0 | FALSE | 644 | 2021-03-06 08:58:50 | 2021-03-06 08:58:50 | 2021-03-06 09:05:48 | 0 | 0 | root | root |\n\n",
            "text/html": [
              "<table class=\"dataframe\">\n",
              "<caption>A data.frame: 1 × 10</caption>\n",
              "<thead>\n",
              "\t<tr><th></th><th scope=col>size</th><th scope=col>isdir</th><th scope=col>mode</th><th scope=col>mtime</th><th scope=col>ctime</th><th scope=col>atime</th><th scope=col>uid</th><th scope=col>gid</th><th scope=col>uname</th><th scope=col>grname</th></tr>\n",
              "\t<tr><th></th><th scope=col>&lt;dbl&gt;</th><th scope=col>&lt;lgl&gt;</th><th scope=col>&lt;octmode&gt;</th><th scope=col>&lt;dttm&gt;</th><th scope=col>&lt;dttm&gt;</th><th scope=col>&lt;dttm&gt;</th><th scope=col>&lt;int&gt;</th><th scope=col>&lt;int&gt;</th><th scope=col>&lt;chr&gt;</th><th scope=col>&lt;chr&gt;</th></tr>\n",
              "</thead>\n",
              "<tbody>\n",
              "\t<tr><th scope=row>myfile.txt</th><td>0</td><td>FALSE</td><td>644</td><td>2021-03-06 08:58:50</td><td>2021-03-06 08:58:50</td><td>2021-03-06 09:05:48</td><td>0</td><td>0</td><td>root</td><td>root</td></tr>\n",
              "</tbody>\n",
              "</table>\n"
            ]
          },
          "metadata": {
            "tags": []
          }
        },
        {
          "output_type": "display_data",
          "data": {
            "text/plain": [
              "            size isdir mode mtime               ctime              \n",
              "myfile1.txt 0    FALSE 644  2021-03-06 09:05:48 2021-03-06 09:05:48\n",
              "            atime               uid gid uname grname\n",
              "myfile1.txt 2021-03-06 09:08:13 0   0   root  root  "
            ],
            "text/latex": "A data.frame: 1 × 10\n\\begin{tabular}{r|llllllllll}\n  & size & isdir & mode & mtime & ctime & atime & uid & gid & uname & grname\\\\\n  & <dbl> & <lgl> & <octmode> & <dttm> & <dttm> & <dttm> & <int> & <int> & <chr> & <chr>\\\\\n\\hline\n\tmyfile1.txt & 0 & FALSE & 644 & 2021-03-06 09:05:48 & 2021-03-06 09:05:48 & 2021-03-06 09:08:13 & 0 & 0 & root & root\\\\\n\\end{tabular}\n",
            "text/markdown": "\nA data.frame: 1 × 10\n\n| <!--/--> | size &lt;dbl&gt; | isdir &lt;lgl&gt; | mode &lt;octmode&gt; | mtime &lt;dttm&gt; | ctime &lt;dttm&gt; | atime &lt;dttm&gt; | uid &lt;int&gt; | gid &lt;int&gt; | uname &lt;chr&gt; | grname &lt;chr&gt; |\n|---|---|---|---|---|---|---|---|---|---|---|\n| myfile1.txt | 0 | FALSE | 644 | 2021-03-06 09:05:48 | 2021-03-06 09:05:48 | 2021-03-06 09:08:13 | 0 | 0 | root | root |\n\n",
            "text/html": [
              "<table class=\"dataframe\">\n",
              "<caption>A data.frame: 1 × 10</caption>\n",
              "<thead>\n",
              "\t<tr><th></th><th scope=col>size</th><th scope=col>isdir</th><th scope=col>mode</th><th scope=col>mtime</th><th scope=col>ctime</th><th scope=col>atime</th><th scope=col>uid</th><th scope=col>gid</th><th scope=col>uname</th><th scope=col>grname</th></tr>\n",
              "\t<tr><th></th><th scope=col>&lt;dbl&gt;</th><th scope=col>&lt;lgl&gt;</th><th scope=col>&lt;octmode&gt;</th><th scope=col>&lt;dttm&gt;</th><th scope=col>&lt;dttm&gt;</th><th scope=col>&lt;dttm&gt;</th><th scope=col>&lt;int&gt;</th><th scope=col>&lt;int&gt;</th><th scope=col>&lt;chr&gt;</th><th scope=col>&lt;chr&gt;</th></tr>\n",
              "</thead>\n",
              "<tbody>\n",
              "\t<tr><th scope=row>myfile1.txt</th><td>0</td><td>FALSE</td><td>644</td><td>2021-03-06 09:05:48</td><td>2021-03-06 09:05:48</td><td>2021-03-06 09:08:13</td><td>0</td><td>0</td><td>root</td><td>root</td></tr>\n",
              "</tbody>\n",
              "</table>\n"
            ]
          },
          "metadata": {
            "tags": []
          }
        }
      ]
    }
  ]
}